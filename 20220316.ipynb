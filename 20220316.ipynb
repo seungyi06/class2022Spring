{
  "nbformat": 4,
  "nbformat_minor": 0,
  "metadata": {
    "colab": {
      "name": "20220316.ipynb",
      "provenance": [],
      "collapsed_sections": [],
      "authorship_tag": "ABX9TyNVPVc4CK/y8zBCCc320+g6",
      "include_colab_link": true
    },
    "kernelspec": {
      "name": "python3",
      "display_name": "Python 3"
    },
    "language_info": {
      "name": "python"
    }
  },
  "cells": [
    {
      "cell_type": "markdown",
      "metadata": {
        "id": "view-in-github",
        "colab_type": "text"
      },
      "source": [
        "<a href=\"https://colab.research.google.com/github/seungyi06/class2022spring/blob/main/20220316.ipynb\" target=\"_parent\"><img src=\"https://colab.research.google.com/assets/colab-badge.svg\" alt=\"Open In Colab\"/></a>"
      ]
    },
    {
      "cell_type": "markdown",
      "source": [
        "# **1. introduction**\n",
        "\n",
        "keywords: python, colab, github, data processing (text, sound, image), huggingface, gradio\n",
        "\n",
        "\n",
        "Python: 파이썬\n",
        "\n",
        "Colab: Google에서 만드는 코딩프로그램\n",
        "\n",
        "Github\n",
        "\n",
        "Data processing => text, sound, image\n",
        "\n",
        "Huggingface: AI model들을 한번에 모아놓은 곳. => 사용하기위해서는 코딩을 해야 함.\n",
        "\n",
        "Gradio: 브라우저 상태에서 데모를 만들기 위해서는 웹 프로그래밍을 해야 함. 그런데 이 웹 프로그래밍이 되게 짜증남. => 따라서, 이것들을 하지 않을 수 있는 방법. 웹 프로그래밍에 들어가는 노력을 단 몇 줄로 줄여줌\n",
        "\n",
        "브라우저 상태 = 웹 상태\n",
        "\n",
        "Huggingface + Gradio: 합병. AI model을 데모로 바로 사용할 수 있도록 됨.\n",
        "\n",
        "데이터와 AI의 관계? input(text, sound, image) => AI = 함수(모델) => output(text, sound, image)  결국, 데이터가 입력되고 데이터가 출력으로 나오게 됨.\n",
        "\n",
        "TTS: text to speech / 입력 text, 출력 sound\n",
        "STT: speech to text, 음성인식\n",
        "TTI: text to image\n",
        "ITT: image to text"
      ],
      "metadata": {
        "id": "N-MtYEMxllAS"
      }
    },
    {
      "cell_type": "markdown",
      "source": [
        "코딩: C, C++, **python**, GO, Java, R, ~script\n",
        "\n",
        "Python: 데이터, AI하는 사람들이 많이 사용함.\n",
        "\n",
        "Java: 웹 프로그래밍, 안드로이드 등을 만드는 사람들이 사용함.\n",
        "\n",
        "모든 코딩프로그램의 공통점: 변수, 문법, 함수\n",
        "\n",
        "변수(variable): a = 1  a에 1을 담아봐라\n",
        "- 숫자와 문자 모두 가능\n",
        "\n",
        "문법\n",
        "- if 구문: 조건문, 조건을 달아놓는 함수.\n",
        "- For 구문: 반복문, 여러번 반복시키는 함수.\n",
        "\n",
        "**함수**\n",
        "- 여러가지가 한번에 있는 것을 입력과 출력으로 묶어놓은 것.\n",
        "- 여러 함수가 만들어져 있는데 그것을 잘 사용하면 됨."
      ],
      "metadata": {
        "id": "s69pU57LkkbV"
      }
    },
    {
      "cell_type": "markdown",
      "source": [
        "# **2. Huggingface gradio**"
      ],
      "metadata": {
        "id": "0-_ZJ8ublHRN"
      }
    },
    {
      "cell_type": "code",
      "source": [
        "!pip install gradio"
      ],
      "metadata": {
        "id": "wMN68dpXlzjX"
      },
      "execution_count": null,
      "outputs": []
    },
    {
      "cell_type": "code",
      "source": [
        "import gradio as gr"
      ],
      "metadata": {
        "id": "pk9BNtlNl1eh"
      },
      "execution_count": null,
      "outputs": []
    },
    {
      "cell_type": "code",
      "source": [
        "gr.Interface.load(\"huggingface/kresnik/wav2vec2-large-xlsr-korean\", inputs=\"mic\").launch()"
      ],
      "metadata": {
        "id": "0JAzbY5pl3Ar"
      },
      "execution_count": null,
      "outputs": []
    },
    {
      "cell_type": "code",
      "source": [
        "gr.Interface.load(\"huggingface/gpt2\").launch();"
      ],
      "metadata": {
        "id": "YS6K3XNul4y7"
      },
      "execution_count": null,
      "outputs": []
    },
    {
      "cell_type": "code",
      "source": [
        "gr.Interface.load(\"huggingface/EleutherAI/gpt-j-6B\", inputs=gr.inputs.Textbox(lines=5, label=\"Input Text\")  # customizes the input component\n",
        ").launch()"
      ],
      "metadata": {
        "id": "09vMHsD5l6i3"
      },
      "execution_count": null,
      "outputs": []
    },
    {
      "cell_type": "code",
      "source": [
        "!pip install transformers"
      ],
      "metadata": {
        "id": "AiedKrbnl8LZ"
      },
      "execution_count": null,
      "outputs": []
    },
    {
      "cell_type": "code",
      "source": [
        ""
      ],
      "metadata": {
        "id": "89Weu_i_YKRI"
      },
      "execution_count": null,
      "outputs": []
    },
    {
      "cell_type": "code",
      "source": [
        "from transformers import pipeline\n",
        "classifier = pipeline(\"sentiment-analysis\")\n",
        "def func(utterance):\n",
        "  return classifier(utterance)\n",
        "gr.Interface(fn=func, inputs=\"text\", outputs=\"text\").launch()"
      ],
      "metadata": {
        "id": "DZbAc3vLl8u9"
      },
      "execution_count": null,
      "outputs": []
    },
    {
      "cell_type": "code",
      "source": [
        "gr.Interface.load(\"huggingface/siebert/sentiment-roberta-large-english\").launch()"
      ],
      "metadata": {
        "id": "Eqs26w97l-oh"
      },
      "execution_count": null,
      "outputs": []
    },
    {
      "cell_type": "code",
      "source": [
        "gr.Interface.load(\"spaces/eugenesiow/remove-bg\", inputs=\"webcam\", title=\"Remove your webcam background!\").launch()"
      ],
      "metadata": {
        "id": "iPRA63JbmA5J"
      },
      "execution_count": null,
      "outputs": []
    },
    {
      "cell_type": "code",
      "source": [
        "gr.Interface.load(\n",
        "             \"huggingface/google/vit-base-patch16-224\",\n",
        "             examples=[\"alligator.jpg\", \"laptop.jpg\"]).launch()"
      ],
      "metadata": {
        "id": "kYZULDazmBep"
      },
      "execution_count": null,
      "outputs": []
    },
    {
      "cell_type": "code",
      "source": [
        "gr.Interface(fn=classify_image, inputs=image, outputs=label, interpretation=\"shap\", num_shap=5).launch()"
      ],
      "metadata": {
        "id": "oBbdsXLymEmT"
      },
      "execution_count": null,
      "outputs": []
    },
    {
      "cell_type": "code",
      "source": [
        "gr.Interface.load(\"huggingface/TalTechNLP/voxlingua107-epaca-tdnn\").launch()"
      ],
      "metadata": {
        "id": "28S0WLbvmGdh"
      },
      "execution_count": null,
      "outputs": []
    },
    {
      "cell_type": "markdown",
      "source": [
        "# **3. variables**\n",
        "\n",
        "- type 함수: int, float, str, list, dict\n",
        "- 인덱싱: [0]부터"
      ],
      "metadata": {
        "id": "LKLVA6HiMwxX"
      }
    },
    {
      "cell_type": "code",
      "source": [
        "a = 1; print(type(a))"
      ],
      "metadata": {
        "colab": {
          "base_uri": "https://localhost:8080/"
        },
        "id": "vTV1iHV7M5Bd",
        "outputId": "e33674d9-a351-43e3-86c5-1afb2d3de4d3"
      },
      "execution_count": 13,
      "outputs": [
        {
          "output_type": "stream",
          "name": "stdout",
          "text": [
            "<class 'int'>\n"
          ]
        }
      ]
    },
    {
      "cell_type": "code",
      "source": [
        "a = 1.1; print(type(a))"
      ],
      "metadata": {
        "colab": {
          "base_uri": "https://localhost:8080/"
        },
        "id": "kLrh6WXrM66p",
        "outputId": "f8e36866-b911-43ba-ce5c-911df6180ecd"
      },
      "execution_count": 14,
      "outputs": [
        {
          "output_type": "stream",
          "name": "stdout",
          "text": [
            "<class 'float'>\n"
          ]
        }
      ]
    },
    {
      "cell_type": "code",
      "source": [
        "a = '123'; print(type(a)); print(a[1])"
      ],
      "metadata": {
        "colab": {
          "base_uri": "https://localhost:8080/"
        },
        "id": "P66C5aVcM64a",
        "outputId": "c0819cf4-1a46-4a5d-9674-fd5d65346855"
      },
      "execution_count": 15,
      "outputs": [
        {
          "output_type": "stream",
          "name": "stdout",
          "text": [
            "<class 'str'>\n",
            "2\n"
          ]
        }
      ]
    },
    {
      "cell_type": "code",
      "source": [
        "a = 'hello'; print(type(a)); print(a[1])"
      ],
      "metadata": {
        "colab": {
          "base_uri": "https://localhost:8080/"
        },
        "id": "y0I4Q14UM62Q",
        "outputId": "9da94271-bde4-42b8-da0c-cd8c578820e8"
      },
      "execution_count": 16,
      "outputs": [
        {
          "output_type": "stream",
          "name": "stdout",
          "text": [
            "<class 'str'>\n",
            "e\n"
          ]
        }
      ]
    },
    {
      "cell_type": "code",
      "source": [
        "a = [1, 2, 3, 4]; print(type(a)); print(a[0])"
      ],
      "metadata": {
        "colab": {
          "base_uri": "https://localhost:8080/"
        },
        "id": "1VQwEZgqM6ze",
        "outputId": "a72a4844-b953-4b17-87d2-a10f00f54d86"
      },
      "execution_count": 17,
      "outputs": [
        {
          "output_type": "stream",
          "name": "stdout",
          "text": [
            "<class 'list'>\n",
            "1\n"
          ]
        }
      ]
    },
    {
      "cell_type": "code",
      "source": [
        "a = [1,'a', [3, '4']]; print(type(a)); print(a[0]); print(a[1]); print(a[2]); print(a[2][1])"
      ],
      "metadata": {
        "colab": {
          "base_uri": "https://localhost:8080/"
        },
        "id": "eTBzr54TM6xA",
        "outputId": "7d42c9cb-3946-4813-da08-b44164e80575"
      },
      "execution_count": 18,
      "outputs": [
        {
          "output_type": "stream",
          "name": "stdout",
          "text": [
            "<class 'list'>\n",
            "1\n",
            "a\n",
            "[3, '4']\n",
            "4\n"
          ]
        }
      ]
    },
    {
      "cell_type": "markdown",
      "source": [
        "**dict**: 사전형 변수\n",
        "\n",
        "리스트를 활용하지 않음. ex) a[0]\n",
        "a[\"a\"]로 사용해야 함."
      ],
      "metadata": {
        "id": "zy0IzJTANMXi"
      }
    },
    {
      "cell_type": "code",
      "source": [
        "a =\t{\"a\": \"apple\", \"b\": \"orange\", \"c\": 2014}\n",
        "print(type(a))\n",
        "print(a[\"a\"])"
      ],
      "metadata": {
        "colab": {
          "base_uri": "https://localhost:8080/"
        },
        "id": "OFR6rxywNLd_",
        "outputId": "0d56d975-1cb0-4e5f-cca3-290c38d1dd47"
      },
      "execution_count": 19,
      "outputs": [
        {
          "output_type": "stream",
          "name": "stdout",
          "text": [
            "<class 'dict'>\n",
            "apple\n"
          ]
        }
      ]
    },
    {
      "cell_type": "markdown",
      "source": [
        "# **4. string**"
      ],
      "metadata": {
        "id": "dnplHORIXKbs"
      }
    },
    {
      "cell_type": "code",
      "source": [
        "s = 'abcdef'\n",
        "print(s[0], s[5], s[-1], s[-6])\n",
        "print(s[1:3], s[1:], s[:3], s[:])"
      ],
      "metadata": {
        "colab": {
          "base_uri": "https://localhost:8080/"
        },
        "id": "esxR_4zLXYVw",
        "outputId": "fde5af66-36b8-4381-f36f-33cb8e44e2d9"
      },
      "execution_count": 2,
      "outputs": [
        {
          "output_type": "stream",
          "name": "stdout",
          "text": [
            "a f f a\n",
            "bc bcdef abc abcdef\n"
          ]
        }
      ]
    },
    {
      "cell_type": "code",
      "source": [
        "n = [100, 200, 300]\n",
        "print(n[0], n[2], n[-1], n[-3])\n",
        "print(n[1:2], n[1:], n[:2], n[:])``"
      ],
      "metadata": {
        "colab": {
          "base_uri": "https://localhost:8080/",
          "height": 140
        },
        "id": "OADT-EpLXYTE",
        "outputId": "4ab33c5c-b1b7-4dbf-dbf6-4f338ea9c10f"
      },
      "execution_count": 3,
      "outputs": [
        {
          "output_type": "error",
          "ename": "SyntaxError",
          "evalue": "ignored",
          "traceback": [
            "\u001b[0;36m  File \u001b[0;32m\"<ipython-input-3-18f5792cdd34>\"\u001b[0;36m, line \u001b[0;32m3\u001b[0m\n\u001b[0;31m    print(n[1:2], n[1:], n[:2], n[:])``\u001b[0m\n\u001b[0m                                     ^\u001b[0m\n\u001b[0;31mSyntaxError\u001b[0m\u001b[0;31m:\u001b[0m invalid syntax\n"
          ]
        }
      ]
    },
    {
      "cell_type": "code",
      "source": [
        "len(s)"
      ],
      "metadata": {
        "colab": {
          "base_uri": "https://localhost:8080/"
        },
        "id": "o0xH-S03XYQk",
        "outputId": "27584f29-7f6a-43f1-eadc-8def86569eb0"
      },
      "execution_count": 4,
      "outputs": [
        {
          "output_type": "execute_result",
          "data": {
            "text/plain": [
              "6"
            ]
          },
          "metadata": {},
          "execution_count": 4
        }
      ]
    },
    {
      "cell_type": "code",
      "source": [
        "s[1]+s[3]+s[4:]*10"
      ],
      "metadata": {
        "colab": {
          "base_uri": "https://localhost:8080/",
          "height": 36
        },
        "id": "qSheYgFAXYNz",
        "outputId": "71b48691-5f97-47f4-d128-7fb45461205d"
      },
      "execution_count": 5,
      "outputs": [
        {
          "output_type": "execute_result",
          "data": {
            "text/plain": [
              "'bdefefefefefefefefefef'"
            ],
            "application/vnd.google.colaboratory.intrinsic+json": {
              "type": "string"
            }
          },
          "metadata": {},
          "execution_count": 5
        }
      ]
    },
    {
      "cell_type": "code",
      "source": [
        "s.upper()"
      ],
      "metadata": {
        "colab": {
          "base_uri": "https://localhost:8080/",
          "height": 36
        },
        "id": "dbTbAWOgXYLQ",
        "outputId": "715813a6-b990-477c-80ec-793d1a05c408"
      },
      "execution_count": 6,
      "outputs": [
        {
          "output_type": "execute_result",
          "data": {
            "text/plain": [
              "'ABCDEF'"
            ],
            "application/vnd.google.colaboratory.intrinsic+json": {
              "type": "string"
            }
          },
          "metadata": {},
          "execution_count": 6
        }
      ]
    },
    {
      "cell_type": "code",
      "source": [
        "s = ' this is a house built this year.\\n' \t\n",
        "s"
      ],
      "metadata": {
        "colab": {
          "base_uri": "https://localhost:8080/",
          "height": 36
        },
        "id": "viwaCJgnXX3o",
        "outputId": "4ac15af9-272f-4649-8529-1c5bda45fc61"
      },
      "execution_count": 7,
      "outputs": [
        {
          "output_type": "execute_result",
          "data": {
            "text/plain": [
              "' this is a house built this year.\\n'"
            ],
            "application/vnd.google.colaboratory.intrinsic+json": {
              "type": "string"
            }
          },
          "metadata": {},
          "execution_count": 7
        }
      ]
    },
    {
      "cell_type": "code",
      "source": [
        "result = s.find('house') \t    # index of first instance of string t inside s (-1 if not found)\n",
        "result"
      ],
      "metadata": {
        "colab": {
          "base_uri": "https://localhost:8080/"
        },
        "id": "uHbZpfPiXf-Q",
        "outputId": "891c9031-7768-4345-ec96-b5fb025a7afc"
      },
      "execution_count": 8,
      "outputs": [
        {
          "output_type": "execute_result",
          "data": {
            "text/plain": [
              "11"
            ]
          },
          "metadata": {},
          "execution_count": 8
        }
      ]
    },
    {
      "cell_type": "code",
      "source": [
        "result = s.find('this')\t    # index of last instance of string t inside s (-1 if not found)\n",
        "result"
      ],
      "metadata": {
        "colab": {
          "base_uri": "https://localhost:8080/"
        },
        "id": "L6QPBuZSXf7Z",
        "outputId": "e4ff65b3-84de-4984-873c-ab44a7440b73"
      },
      "execution_count": 9,
      "outputs": [
        {
          "output_type": "execute_result",
          "data": {
            "text/plain": [
              "1"
            ]
          },
          "metadata": {},
          "execution_count": 9
        }
      ]
    },
    {
      "cell_type": "code",
      "source": [
        "s = s.strip()      \t            # a copy of s without leading or trailing whitespace\n",
        "s"
      ],
      "metadata": {
        "colab": {
          "base_uri": "https://localhost:8080/",
          "height": 36
        },
        "id": "8GFQJ6OfXf47",
        "outputId": "a873a259-1601-4d3e-ea82-92d3644f5565"
      },
      "execution_count": 10,
      "outputs": [
        {
          "output_type": "execute_result",
          "data": {
            "text/plain": [
              "'this is a house built this year.'"
            ],
            "application/vnd.google.colaboratory.intrinsic+json": {
              "type": "string"
            }
          },
          "metadata": {},
          "execution_count": 10
        }
      ]
    },
    {
      "cell_type": "code",
      "source": [
        "tokens = s.split(' ')\t        # split s into a list wherever a t is found (whitespace by default)\n",
        "tokens"
      ],
      "metadata": {
        "colab": {
          "base_uri": "https://localhost:8080/"
        },
        "id": "90SSJ2f4Xf2U",
        "outputId": "4051925c-7c9d-420b-9dc2-022481b4f34d"
      },
      "execution_count": 11,
      "outputs": [
        {
          "output_type": "execute_result",
          "data": {
            "text/plain": [
              "['this', 'is', 'a', 'house', 'built', 'this', 'year.']"
            ]
          },
          "metadata": {},
          "execution_count": 11
        }
      ]
    },
    {
      "cell_type": "code",
      "source": [
        "s = ' '.join(tokens)\t        # combine the words of the text into a string using s as the glue\n",
        "s"
      ],
      "metadata": {
        "colab": {
          "base_uri": "https://localhost:8080/",
          "height": 36
        },
        "id": "otFsll-zXfzo",
        "outputId": "72d64f58-0af8-4656-83a0-e1f0ff6a0d63"
      },
      "execution_count": 12,
      "outputs": [
        {
          "output_type": "execute_result",
          "data": {
            "text/plain": [
              "'this is a house built this year.'"
            ],
            "application/vnd.google.colaboratory.intrinsic+json": {
              "type": "string"
            }
          },
          "metadata": {},
          "execution_count": 12
        }
      ]
    },
    {
      "cell_type": "code",
      "source": [
        "s = s.replace('this', 'that')   # replace instances of t with u inside s\n",
        "s"
      ],
      "metadata": {
        "colab": {
          "base_uri": "https://localhost:8080/",
          "height": 36
        },
        "id": "cvbC6VR-Xk6h",
        "outputId": "0ac137a3-96ef-4a67-b4f3-890787d94790"
      },
      "execution_count": 13,
      "outputs": [
        {
          "output_type": "execute_result",
          "data": {
            "text/plain": [
              "'that is a house built that year.'"
            ],
            "application/vnd.google.colaboratory.intrinsic+json": {
              "type": "string"
            }
          },
          "metadata": {},
          "execution_count": 13
        }
      ]
    },
    {
      "cell_type": "markdown",
      "source": [
        "# **5. function**\n",
        "함수를 왜 사용하는가?\n",
        "입출력이 있는 경우, 계속해서 호출해서 사용해야 할 때, function을 만들어놓으면 편하게 계속 간단하게 사용할 수 있음. reuse가능함.\n",
        "\n",
        "**<시험문제>**\n",
        "\n",
        "함수는 입력과 출력을 받을 수 있지만, 반드시 입출력을 명시할 필요는 없다.\n",
        "\n",
        "=> 입력O 출력X 가능. 입력X 출력O 가능. 입력X 출력X 가능. 입력O 출력O 가능."
      ],
      "metadata": {
        "id": "cAa2V20MBbSo"
      }
    },
    {
      "cell_type": "code",
      "source": [
        "#function을 만드는 방법\n",
        "def add(a,b):\n",
        "  return a+b\n",
        "\n",
        "def subtract(a,b):\n",
        "  return a-b\n",
        "\n",
        "def multiply(a,b):\n",
        "  return a*b\n",
        "\n",
        "def divide(a,b):\n",
        "  return a/b"
      ],
      "metadata": {
        "id": "Whe6et79Bmxe"
      },
      "execution_count": 14,
      "outputs": []
    },
    {
      "cell_type": "code",
      "source": [
        "c = add(1,2); print(c)\n",
        "c = subtract(1,2); print(c)\n",
        "c = multiply(1,2); print(c)\n",
        "c = divide(1,2); print(c)"
      ],
      "metadata": {
        "colab": {
          "base_uri": "https://localhost:8080/"
        },
        "id": "xfV-4M1vBzch",
        "outputId": "17ed68d3-dddb-4bee-936c-773be38ec6b0"
      },
      "execution_count": 15,
      "outputs": [
        {
          "output_type": "stream",
          "name": "stdout",
          "text": [
            "3\n",
            "-1\n",
            "2\n",
            "0.5\n"
          ]
        }
      ]
    },
    {
      "cell_type": "markdown",
      "source": [
        "# **6. syntax**\n",
        "\n",
        "**for 구문: 반복**\n",
        "\n",
        "        function: 개발자가 만들어놓은 함수(입출력을 가질 수 있음)\n",
        "        range function:\n",
        "            range(4) => index 0, 1, 2, 3\n",
        "            range(1, 4) => index 1, 2, 3\n",
        "            range(3, 5) => index 3, 4\n",
        "        len function_리스트에 있는 개수를 출력해주는 함수\n",
        "        print function_화면출력만 해주는 함수\n",
        "\n",
        "\n",
        " cell에서 제일 마지막에 있는 것이 출력되는 것이 원칙\n",
        "\n",
        "        print(a)가 프린트되어 [1,2,3,4]가 나옴\n",
        "        a = [1,2,3,4]\n",
        "        print(a)\n",
        "\n",
        "        len(a)가 프린트되어 4가 나옴\n",
        "        a = [1,2,3,4]\n",
        "        len(a)\n",
        "\n",
        "        print(a)가 프린트되어 [1,2,3,4]가 나옴\n",
        "        a = [1,2,3,4]\n",
        "        len(a)\n",
        "        print(a)"
      ],
      "metadata": {
        "id": "ogEl2r2sB4JG"
      }
    },
    {
      "cell_type": "code",
      "source": [
        "# for구문의 기본\n",
        "\n",
        "a = [1, 2, 3, 4]\n",
        "for i in a:\n",
        "    print(i)"
      ],
      "metadata": {
        "colab": {
          "base_uri": "https://localhost:8080/"
        },
        "id": "uCH52MxyN9Gm",
        "outputId": "a2543a53-2997-4cd2-ef3b-e46afa8c8fb5"
      },
      "execution_count": 16,
      "outputs": [
        {
          "output_type": "stream",
          "name": "stdout",
          "text": [
            "1\n",
            "2\n",
            "3\n",
            "4\n"
          ]
        }
      ]
    },
    {
      "cell_type": "code",
      "source": [
        "# for구문에 range함수 사용. 이때 range는 index로 출력됨\n",
        "\n",
        "a = [1, 2, 3, 4]\n",
        "for i in range(len(a)):\n",
        "    print(a[i])"
      ],
      "metadata": {
        "colab": {
          "base_uri": "https://localhost:8080/"
        },
        "id": "609AK4sUN9Ds",
        "outputId": "2e0b0da7-0636-41e1-b040-08104b168ae5"
      },
      "execution_count": 17,
      "outputs": [
        {
          "output_type": "stream",
          "name": "stdout",
          "text": [
            "1\n",
            "2\n",
            "3\n",
            "4\n"
          ]
        }
      ]
    },
    {
      "cell_type": "code",
      "source": [
        "a = ['red', 'green', 'blue', 'purple']\n",
        "for i in a:\n",
        "    print(i)"
      ],
      "metadata": {
        "colab": {
          "base_uri": "https://localhost:8080/"
        },
        "id": "echkTo_oN9A-",
        "outputId": "c31409cf-26d9-48fc-f506-14362513eee6"
      },
      "execution_count": 18,
      "outputs": [
        {
          "output_type": "stream",
          "name": "stdout",
          "text": [
            "red\n",
            "green\n",
            "blue\n",
            "purple\n"
          ]
        }
      ]
    },
    {
      "cell_type": "code",
      "source": [
        "a = ['red', 'green', 'blue', 'purple']\n",
        "for i in range(len(a)):\n",
        "    print(a[i])"
      ],
      "metadata": {
        "colab": {
          "base_uri": "https://localhost:8080/"
        },
        "id": "OpT8qdfWN8-W",
        "outputId": "2c88f183-8024-48e4-a9a1-13d8333e3283"
      },
      "execution_count": 19,
      "outputs": [
        {
          "output_type": "stream",
          "name": "stdout",
          "text": [
            "red\n",
            "green\n",
            "blue\n",
            "purple\n"
          ]
        }
      ]
    },
    {
      "cell_type": "markdown",
      "source": [
        "**if구문: 조건**"
      ],
      "metadata": {
        "id": "IPVRNa0POFT9"
      }
    },
    {
      "cell_type": "code",
      "source": [
        "a = 0\n",
        "if a == 0:\n",
        "    print(a)\n",
        "else:\n",
        "    print(a+1)"
      ],
      "metadata": {
        "colab": {
          "base_uri": "https://localhost:8080/"
        },
        "id": "77aL2a4YN87q",
        "outputId": "78997097-2950-4dc5-e159-719d2cb9880b"
      },
      "execution_count": 20,
      "outputs": [
        {
          "output_type": "stream",
          "name": "stdout",
          "text": [
            "0\n"
          ]
        }
      ]
    },
    {
      "cell_type": "code",
      "source": [
        "for i in range(1, 3):\n",
        "    for j in range(3, 5):\n",
        "        print(i*j)"
      ],
      "metadata": {
        "colab": {
          "base_uri": "https://localhost:8080/"
        },
        "id": "GfJQkBVhOKBo",
        "outputId": "2ef24177-0af1-4c8e-dfca-e42b29abbe40"
      },
      "execution_count": 21,
      "outputs": [
        {
          "output_type": "stream",
          "name": "stdout",
          "text": [
            "3\n",
            "4\n",
            "6\n",
            "8\n"
          ]
        }
      ]
    },
    {
      "cell_type": "markdown",
      "source": [
        "Q1. inner loop에서 몇 번을 도느냐?\n",
        "\n",
        "A1. 3, 4, 5, 6 / 총 4번 loop됨\n",
        "\n",
        "Q2. outter loop에서 몇 번을 도느냐?\n",
        "\n",
        "A2. 1, 2, 3, 4 / 총 4번 loop됨\n",
        "\n",
        "Q3. 총 print out이 몇 번 찍히는가?\n",
        "\n",
        "A. 총 16번"
      ],
      "metadata": {
        "id": "yqv_rbNuOOrl"
      }
    },
    {
      "cell_type": "code",
      "source": [
        "for i in range(1, 5): #outer loop\n",
        "    for j in range(3, 7): #inner loop\n",
        "        print(i*j)"
      ],
      "metadata": {
        "colab": {
          "base_uri": "https://localhost:8080/"
        },
        "id": "_Ns6VFizOJ-r",
        "outputId": "c6608e32-37f6-46b6-d94c-ea1b2a743c20"
      },
      "execution_count": 22,
      "outputs": [
        {
          "output_type": "stream",
          "name": "stdout",
          "text": [
            "3\n",
            "4\n",
            "5\n",
            "6\n",
            "6\n",
            "8\n",
            "10\n",
            "12\n",
            "9\n",
            "12\n",
            "15\n",
            "18\n",
            "12\n",
            "16\n",
            "20\n",
            "24\n"
          ]
        }
      ]
    },
    {
      "cell_type": "code",
      "source": [
        "#for구문과 if구문의 혼합\n",
        "for i in range(1, 3):\n",
        "    for j in range(3, 5):\n",
        "        if j >=4:\n",
        "            print(i*j)"
      ],
      "metadata": {
        "colab": {
          "base_uri": "https://localhost:8080/"
        },
        "id": "u-KgWh9SOJ8U",
        "outputId": "040fcc52-d02f-4693-a1ee-05bfb7114910"
      },
      "execution_count": 23,
      "outputs": [
        {
          "output_type": "stream",
          "name": "stdout",
          "text": [
            "4\n",
            "8\n"
          ]
        }
      ]
    },
    {
      "cell_type": "markdown",
      "source": [
        "**list comprehension**_리스트 내포\n",
        "\n",
        "리스트에 어떤 기능/문법을 내포한다는 뜻으로, 리스트에 변수생성,할당 등을 for문 등을 포함해 쉽게, 짧게, 한줄로 직관적인 프로그램을 만들수 있는 문법인데, 파이썬의 특징.\n",
        "\n",
        "List Comprehension 을 사용하면 소스의 길이를 크게 줄일 수 있음.\n",
        "\n",
        "이건 '리스트'에 사용함. 파이썬만 있는 것임."
      ],
      "metadata": {
        "id": "YehCbYzoOkAW"
      }
    },
    {
      "cell_type": "code",
      "source": [
        "a = [1, 2, 3, 4]\n",
        "b = [i for i in a if i >=2]\n",
        "b #제일 마지막 줄에 b가 있어야만 print(b) 안해도 출력됨.\n",
        "\n",
        "#2보다 #1이 코드를 더 적은 양으로 만들 수 있음.\n",
        "\n",
        "#1\n",
        "b = [i for i in a if i >=2]\n",
        "b\n",
        "\n",
        "#2\n",
        "for i in a:\n",
        "    if i >= 2:\n",
        "b =[i]"
      ],
      "metadata": {
        "id": "cqM-rjfYOlDh"
      },
      "execution_count": null,
      "outputs": []
    },
    {
      "cell_type": "markdown",
      "source": [
        "**Dict comprehension**"
      ],
      "metadata": {
        "id": "ThX1PV2xO1_o"
      }
    },
    {
      "cell_type": "code",
      "source": [
        "a = ['red', 'green', 'blue', 'purple']\n",
        "b = [i for i in a if len(i) >=4]\n",
        "b"
      ],
      "metadata": {
        "colab": {
          "base_uri": "https://localhost:8080/"
        },
        "id": "j8lmf9UtOnu9",
        "outputId": "a451f1e7-7c01-4f94-c6bc-9115eded7460"
      },
      "execution_count": 24,
      "outputs": [
        {
          "output_type": "execute_result",
          "data": {
            "text/plain": [
              "['green', 'blue', 'purple']"
            ]
          },
          "metadata": {},
          "execution_count": 24
        }
      ]
    },
    {
      "cell_type": "markdown",
      "source": [
        "# **7. import**"
      ],
      "metadata": {
        "id": "w2Y9xdyqmH7P"
      }
    },
    {
      "cell_type": "code",
      "source": [
        "import numpy as np\n",
        "n = np.random.randn(100) #100개의 랜덤 넘버가 만들어짐"
      ],
      "metadata": {
        "id": "_IISh0a3nzgq"
      },
      "execution_count": 25,
      "outputs": []
    },
    {
      "cell_type": "code",
      "source": [
        "#1\n",
        "import matplotlib #비주얼라이징해주는 함수\n",
        "matplotlib.pyplot.hist(n) #hist: 히스토그램을 만들어줌; 칸을 10개를 만들어서 100개의 랜덤 숫자들을 넣어줌"
      ],
      "metadata": {
        "id": "zJge1GNrn1Gm",
        "colab": {
          "base_uri": "https://localhost:8080/",
          "height": 357
        },
        "outputId": "29b8d335-c431-4e31-aea3-bb12ab9f3aa5"
      },
      "execution_count": 26,
      "outputs": [
        {
          "output_type": "execute_result",
          "data": {
            "text/plain": [
              "(array([ 1.,  9.,  9., 10., 19., 21., 13.,  8.,  8.,  2.]),\n",
              " array([-2.24612983, -1.79129326, -1.3364567 , -0.88162013, -0.42678356,\n",
              "         0.028053  ,  0.48288957,  0.93772614,  1.39256271,  1.84739927,\n",
              "         2.30223584]),\n",
              " <a list of 10 Patch objects>)"
            ]
          },
          "metadata": {},
          "execution_count": 26
        },
        {
          "output_type": "display_data",
          "data": {
            "text/plain": [
              "<Figure size 432x288 with 1 Axes>"
            ],
            "image/png": "[encoded data removed]"
          },
          "metadata": {
            "needs_background": "light"
          }
        }
      ]
    },
    {
      "cell_type": "code",
      "source": [
        "#2\n",
        "import matplotlib.pyplot\n",
        "matplotlib.pyplot.hist(n)"
      ],
      "metadata": {
        "id": "aVdwAN0xn1ps",
        "colab": {
          "base_uri": "https://localhost:8080/",
          "height": 357
        },
        "outputId": "0eadb1fb-6e78-4ad9-c8ad-b92b960b3484"
      },
      "execution_count": 27,
      "outputs": [
        {
          "output_type": "execute_result",
          "data": {
            "text/plain": [
              "(array([ 1.,  9.,  9., 10., 19., 21., 13.,  8.,  8.,  2.]),\n",
              " array([-2.24612983, -1.79129326, -1.3364567 , -0.88162013, -0.42678356,\n",
              "         0.028053  ,  0.48288957,  0.93772614,  1.39256271,  1.84739927,\n",
              "         2.30223584]),\n",
              " <a list of 10 Patch objects>)"
            ]
          },
          "metadata": {},
          "execution_count": 27
        },
        {
          "output_type": "display_data",
          "data": {
            "text/plain": [
              "<Figure size 432x288 with 1 Axes>"
            ],
            "image/png": "[encoded data removed]"
          },
          "metadata": {
            "needs_background": "light"
          }
        }
      ]
    },
    {
      "cell_type": "code",
      "source": [
        "#3 많이 사용하는 짧은 코드\n",
        "import matplotlib.pyplot as plt\n",
        "plt.hist(n)"
      ],
      "metadata": {
        "id": "JaidGsnFn3Re",
        "colab": {
          "base_uri": "https://localhost:8080/",
          "height": 357
        },
        "outputId": "bd776fa3-3a1f-4a1b-94cd-712976f9ba5c"
      },
      "execution_count": 28,
      "outputs": [
        {
          "output_type": "execute_result",
          "data": {
            "text/plain": [
              "(array([ 1.,  9.,  9., 10., 19., 21., 13.,  8.,  8.,  2.]),\n",
              " array([-2.24612983, -1.79129326, -1.3364567 , -0.88162013, -0.42678356,\n",
              "         0.028053  ,  0.48288957,  0.93772614,  1.39256271,  1.84739927,\n",
              "         2.30223584]),\n",
              " <a list of 10 Patch objects>)"
            ]
          },
          "metadata": {},
          "execution_count": 28
        },
        {
          "output_type": "display_data",
          "data": {
            "text/plain": [
              "<Figure size 432x288 with 1 Axes>"
            ],
            "image/png": "[encoded data removed]"
          },
          "metadata": {
            "needs_background": "light"
          }
        }
      ]
    },
    {
      "cell_type": "code",
      "source": [
        "#4 from import를 쓰면 import as처럼 축약해서 부를 수 있는 효과\n",
        "from matplotlib import pyplot\n",
        "pyplot.hist(n)"
      ],
      "metadata": {
        "id": "dXALtuLYn4qK",
        "colab": {
          "base_uri": "https://localhost:8080/",
          "height": 357
        },
        "outputId": "19b0ba26-cdcd-46dd-87c3-b7690c8aa568"
      },
      "execution_count": 29,
      "outputs": [
        {
          "output_type": "execute_result",
          "data": {
            "text/plain": [
              "(array([ 1.,  9.,  9., 10., 19., 21., 13.,  8.,  8.,  2.]),\n",
              " array([-2.24612983, -1.79129326, -1.3364567 , -0.88162013, -0.42678356,\n",
              "         0.028053  ,  0.48288957,  0.93772614,  1.39256271,  1.84739927,\n",
              "         2.30223584]),\n",
              " <a list of 10 Patch objects>)"
            ]
          },
          "metadata": {},
          "execution_count": 29
        },
        {
          "output_type": "display_data",
          "data": {
            "text/plain": [
              "<Figure size 432x288 with 1 Axes>"
            ],
            "image/png": "[encoded data removed]"
          },
          "metadata": {
            "needs_background": "light"
          }
        }
      ]
    },
    {
      "cell_type": "code",
      "source": [
        "from matplotlib.pyplot import hist\n",
        "hist(n)"
      ],
      "metadata": {
        "id": "25L8PjYloAry",
        "colab": {
          "base_uri": "https://localhost:8080/",
          "height": 357
        },
        "outputId": "b3409c64-d53d-445d-9836-68244350f56e"
      },
      "execution_count": 30,
      "outputs": [
        {
          "output_type": "execute_result",
          "data": {
            "text/plain": [
              "(array([ 1.,  9.,  9., 10., 19., 21., 13.,  8.,  8.,  2.]),\n",
              " array([-2.24612983, -1.79129326, -1.3364567 , -0.88162013, -0.42678356,\n",
              "         0.028053  ,  0.48288957,  0.93772614,  1.39256271,  1.84739927,\n",
              "         2.30223584]),\n",
              " <a list of 10 Patch objects>)"
            ]
          },
          "metadata": {},
          "execution_count": 30
        },
        {
          "output_type": "display_data",
          "data": {
            "text/plain": [
              "<Figure size 432x288 with 1 Axes>"
            ],
            "image/png": "[encoded data removed]"
          },
          "metadata": {
            "needs_background": "light"
          }
        }
      ]
    },
    {
      "cell_type": "markdown",
      "source": [
        "# **4. numpy matplotib**"
      ],
      "metadata": {
        "id": "ahS0jFlUoE4R"
      }
    },
    {
      "cell_type": "code",
      "source": [
        "import numpy as np"
      ],
      "metadata": {
        "id": "wvneQhHYoEmR"
      },
      "execution_count": 31,
      "outputs": []
    },
    {
      "cell_type": "code",
      "source": [
        "#array\n",
        "x = np.array([1,2,3]) #리스트를 array로 바꾸기\n",
        "print(x)\n",
        "print(type(x))\n",
        "print(x.shape)"
      ],
      "metadata": {
        "id": "EO8uFPv0oOrG",
        "colab": {
          "base_uri": "https://localhost:8080/"
        },
        "outputId": "3b7404aa-1744-44b2-86a4-94b29e2e71b8"
      },
      "execution_count": 32,
      "outputs": [
        {
          "output_type": "stream",
          "name": "stdout",
          "text": [
            "[1 2 3]\n",
            "<class 'numpy.ndarray'>\n",
            "(3,)\n"
          ]
        }
      ]
    },
    {
      "cell_type": "code",
      "source": [
        "#arange\n",
        "x = np.arange(0,10,2) #0포함해서 10제외하고 10까지 2씩 증가\n",
        "print(x)\n",
        "print(type(x))\n",
        "print(x.shape) #(5,): 1d array"
      ],
      "metadata": {
        "id": "Wz8QK3OmoOmM",
        "colab": {
          "base_uri": "https://localhost:8080/"
        },
        "outputId": "92f4cb85-6507-4567-9d82-8d26d3e71a4f"
      },
      "execution_count": 33,
      "outputs": [
        {
          "output_type": "stream",
          "name": "stdout",
          "text": [
            "[0 2 4 6 8]\n",
            "<class 'numpy.ndarray'>\n",
            "(5,)\n"
          ]
        }
      ]
    },
    {
      "cell_type": "code",
      "source": [
        "#linspace = linear space\n",
        "x = np.linspace(0,10,6) #0부터 10까지 10을 포함해서 등분하여 6개의 숫자를 만들어라\n",
        "print(x)\n",
        "print(type(x))\n",
        "print(x.shape)"
      ],
      "metadata": {
        "id": "i9XazoTGoOh6",
        "colab": {
          "base_uri": "https://localhost:8080/"
        },
        "outputId": "f16f728d-7298-41b1-f4c9-d0bde8f48080"
      },
      "execution_count": 34,
      "outputs": [
        {
          "output_type": "stream",
          "name": "stdout",
          "text": [
            "[ 0.  2.  4.  6.  8. 10.]\n",
            "<class 'numpy.ndarray'>\n",
            "(6,)\n"
          ]
        }
      ]
    },
    {
      "cell_type": "code",
      "source": [
        "#array([[], []]): 이중리스트\n",
        "x = np.array([[1,2,3], [4,5,6]])\n",
        "print(x)\n",
        "print(type(x))\n",
        "print(x.shape)"
      ],
      "metadata": {
        "id": "0Mwbn4WjoOda",
        "colab": {
          "base_uri": "https://localhost:8080/"
        },
        "outputId": "2f99bc27-2122-4e13-d0e9-af9ddf193118"
      },
      "execution_count": 35,
      "outputs": [
        {
          "output_type": "stream",
          "name": "stdout",
          "text": [
            "[[1 2 3]\n",
            " [4 5 6]]\n",
            "<class 'numpy.ndarray'>\n",
            "(2, 3)\n"
          ]
        }
      ]
    },
    {
      "cell_type": "code",
      "source": [
        "x = np.array([[[1,2,3], [4,5,6]], [[7,8,9], [10,11,12]]])\n",
        "print(x)\n",
        "print(type(x))\n",
        "print(x.shape)"
      ],
      "metadata": {
        "id": "yww9DKbhoOYI",
        "colab": {
          "base_uri": "https://localhost:8080/"
        },
        "outputId": "ffc21269-cd6f-4807-a696-91d290d2cb87"
      },
      "execution_count": 36,
      "outputs": [
        {
          "output_type": "stream",
          "name": "stdout",
          "text": [
            "[[[ 1  2  3]\n",
            "  [ 4  5  6]]\n",
            "\n",
            " [[ 7  8  9]\n",
            "  [10 11 12]]]\n",
            "<class 'numpy.ndarray'>\n",
            "(2, 2, 3)\n"
          ]
        }
      ]
    },
    {
      "cell_type": "code",
      "source": [
        "#ones: 모두 1로 채움\n",
        "x = np.ones([2, 2, 3])\n",
        "print(x)\n",
        "print(type(x))\n",
        "print(x.shape)"
      ],
      "metadata": {
        "id": "1Ax9jvyYoOSz",
        "colab": {
          "base_uri": "https://localhost:8080/"
        },
        "outputId": "5b9a48ae-04d2-4b2a-a15b-eda40c8862c3"
      },
      "execution_count": 37,
      "outputs": [
        {
          "output_type": "stream",
          "name": "stdout",
          "text": [
            "[[[1. 1. 1.]\n",
            "  [1. 1. 1.]]\n",
            "\n",
            " [[1. 1. 1.]\n",
            "  [1. 1. 1.]]]\n",
            "<class 'numpy.ndarray'>\n",
            "(2, 2, 3)\n"
          ]
        }
      ]
    },
    {
      "cell_type": "code",
      "source": [
        "#zeros: 모두 0으로 채움\n",
        "x = np.zeros([2, 2, 3])\n",
        "print(x)\n",
        "print(type(x))\n",
        "print(x.shape)\n",
        "x.reshape(3,2,2)"
      ],
      "metadata": {
        "id": "lO557f7zoONk",
        "colab": {
          "base_uri": "https://localhost:8080/"
        },
        "outputId": "fea51a74-44db-404c-e4b0-e6b829db8212"
      },
      "execution_count": 38,
      "outputs": [
        {
          "output_type": "stream",
          "name": "stdout",
          "text": [
            "[[[0. 0. 0.]\n",
            "  [0. 0. 0.]]\n",
            "\n",
            " [[0. 0. 0.]\n",
            "  [0. 0. 0.]]]\n",
            "<class 'numpy.ndarray'>\n",
            "(2, 2, 3)\n"
          ]
        },
        {
          "output_type": "execute_result",
          "data": {
            "text/plain": [
              "array([[[0., 0.],\n",
              "        [0., 0.]],\n",
              "\n",
              "       [[0., 0.],\n",
              "        [0., 0.]],\n",
              "\n",
              "       [[0., 0.],\n",
              "        [0., 0.]]])"
            ]
          },
          "metadata": {},
          "execution_count": 38
        }
      ]
    },
    {
      "cell_type": "markdown",
      "source": [
        "create random numbers"
      ],
      "metadata": {
        "id": "iAKp0fBqogc4"
      }
    },
    {
      "cell_type": "code",
      "source": [
        "np.random.normal(0, 1, [2,3,4]) #(평균값, ,2x3x4의 nd array)"
      ],
      "metadata": {
        "id": "0M5uWJQNoXl7",
        "colab": {
          "base_uri": "https://localhost:8080/"
        },
        "outputId": "3608fc5b-db22-47b9-9bed-f3b8e1051f37"
      },
      "execution_count": 39,
      "outputs": [
        {
          "output_type": "execute_result",
          "data": {
            "text/plain": [
              "array([[[-0.60723785,  1.27381017, -1.65826511,  0.0897626 ],\n",
              "        [ 0.3095748 ,  0.08023755,  0.88286545,  0.27614989],\n",
              "        [ 1.1728981 ,  0.58148798,  1.83563604,  1.64285243]],\n",
              "\n",
              "       [[ 0.30545148, -1.22492063, -0.69085301, -0.54841662],\n",
              "        [ 1.4377024 , -1.20390735,  0.60617635, -1.96665312],\n",
              "        [ 0.56432897, -0.54898616,  0.46600386,  0.46875891]]])"
            ]
          },
          "metadata": {},
          "execution_count": 39
        }
      ]
    },
    {
      "cell_type": "code",
      "source": [
        "import matplotlib.pyplot as plt"
      ],
      "metadata": {
        "id": "Omrol1mfohdk"
      },
      "execution_count": 40,
      "outputs": []
    },
    {
      "cell_type": "code",
      "source": [
        "x = np.random.normal(0, 1, 100)\n",
        "print(x)\n",
        "plt.hist(x, bins=10) #10개의 통"
      ],
      "metadata": {
        "id": "wZpytVJhojZw",
        "colab": {
          "base_uri": "https://localhost:8080/",
          "height": 671
        },
        "outputId": "3a8f4f23-77f4-41b7-e897-e70badf735dd"
      },
      "execution_count": 41,
      "outputs": [
        {
          "output_type": "stream",
          "name": "stdout",
          "text": [
            "[ 1.32867205 -0.46432715  1.07018945 -1.0186762  -0.67958591  2.29523469\n",
            "  0.25515227 -0.23645511 -0.42202141  0.79084279  0.80506173 -1.63048658\n",
            "  0.64903031  0.39297912 -0.6971278   0.86351532 -0.63161272 -0.63580206\n",
            "  0.37734955 -0.8756303  -0.54740719  1.22722696  1.39914476 -0.90038935\n",
            " -1.56167569 -0.18533187 -1.40140987 -0.24164169  1.23191922 -0.1498036\n",
            " -1.05861919  0.06292205 -0.19204064 -0.35847955 -1.03962925 -1.69617187\n",
            " -1.37428509 -2.37215109  0.03935472 -0.28848245 -0.13912428 -0.02773368\n",
            "  0.00418976  0.11032103 -1.15643716 -0.97951405  0.63225705  0.27798397\n",
            " -1.2674947   0.0689051  -0.51613975 -0.50650107 -1.22553312  0.23411761\n",
            " -0.62410493 -1.73656783 -0.6010835  -1.39942483 -1.62066274 -0.55256502\n",
            "  1.82131851 -0.99767372 -1.17313441  0.40176751 -0.6642234   1.93785516\n",
            "  0.52408201 -1.35253267 -1.31265275 -1.01857601 -0.43362011 -0.76564359\n",
            "  0.99293565  0.72569426 -0.30646338  0.43856008 -2.16597488 -1.30944199\n",
            " -0.00393182  0.08782804  0.45195496 -2.62980347  0.9164012  -0.30433284\n",
            "  1.23704356 -2.0069545   0.60037104  0.70140852 -0.01732357 -0.6056943\n",
            "  0.59205685 -0.06917131 -1.981219   -0.02526538 -0.04506352 -0.71507691\n",
            " -0.29914279 -0.05409772 -0.42313121 -0.21734132]\n"
          ]
        },
        {
          "output_type": "execute_result",
          "data": {
            "text/plain": [
              "(array([ 3.,  4., 13., 13., 23., 18., 14.,  7.,  2.,  3.]),\n",
              " array([-2.62980347, -2.13729966, -1.64479584, -1.15229202, -0.65978821,\n",
              "        -0.16728439,  0.32521943,  0.81772324,  1.31022706,  1.80273088,\n",
              "         2.29523469]),\n",
              " <a list of 10 Patch objects>)"
            ]
          },
          "metadata": {},
          "execution_count": 41
        },
        {
          "output_type": "display_data",
          "data": {
            "text/plain": [
              "<Figure size 432x288 with 1 Axes>"
            ],
            "image/png": "[encoded data removed]"
          },
          "metadata": {
            "needs_background": "light"
          }
        }
      ]
    },
    {
      "cell_type": "markdown",
      "source": [
        "generate a sine curve"
      ],
      "metadata": {
        "id": "3RllZNovonqG"
      }
    },
    {
      "cell_type": "code",
      "source": [
        "plt.figure()\n",
        "\n",
        "theta1 = np.linspace(0, 2*np.pi, 100)\n",
        "s1 = np.sin(theta1)\n",
        "theta2 = np.linspace(0, 2*np.pi, 100) + np.pi/2\n",
        "s2 = np.sin(theta2)\n",
        "\n",
        "plt.subplot(2, 1, 1) # (rows, columns, panel number)\n",
        "plt.plot(theta1, s1, '-')\n",
        "plt.subplot(2, 1, 2) # (rows, columns, panel number)\n",
        "plt.plot(theta2, s2, '.')"
      ],
      "metadata": {
        "id": "ajHLfLY2ojXT",
        "colab": {
          "base_uri": "https://localhost:8080/",
          "height": 283
        },
        "outputId": "b55dc8db-f234-4887-97d5-889d1d6740ce"
      },
      "execution_count": 42,
      "outputs": [
        {
          "output_type": "execute_result",
          "data": {
            "text/plain": [
              "[<matplotlib.lines.Line2D at 0x7f2f412bedd0>]"
            ]
          },
          "metadata": {},
          "execution_count": 42
        },
        {
          "output_type": "display_data",
          "data": {
            "text/plain": [
              "<Figure size 432x288 with 2 Axes>"
            ],
            "image/png": "[encoded data removed]"
          },
          "metadata": {
            "needs_background": "light"
          }
        }
      ]
    },
    {
      "cell_type": "code",
      "source": [
        "#correlation(코릴레이션): 비례 r = + 정비례, r = - 반비례\n",
        "np.corrcoef(s1,s2)"
      ],
      "metadata": {
        "id": "_Hx-muHbojVE",
        "colab": {
          "base_uri": "https://localhost:8080/"
        },
        "outputId": "7476bb90-b20c-49d0-fb0b-fe9ef70ef8b0"
      },
      "execution_count": 43,
      "outputs": [
        {
          "output_type": "execute_result",
          "data": {
            "text/plain": [
              "array([[1.00000000e+00, 2.41915449e-17],\n",
              "       [2.41915449e-17, 1.00000000e+00]])"
            ]
          },
          "metadata": {},
          "execution_count": 43
        }
      ]
    }
  ]
}