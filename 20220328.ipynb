{
  "nbformat": 4,
  "nbformat_minor": 0,
  "metadata": {
    "colab": {
      "name": "20220328.ipynb",
      "provenance": [],
      "collapsed_sections": [],
      "authorship_tag": "ABX9TyMI91us+GsSRn41dAbWpsoE",
      "include_colab_link": true
    },
    "kernelspec": {
      "name": "python3",
      "display_name": "Python 3"
    },
    "language_info": {
      "name": "python"
    }
  },
  "cells": [
    {
      "cell_type": "markdown",
      "metadata": {
        "id": "view-in-github",
        "colab_type": "text"
      },
      "source": [
        "<a href=\"https://colab.research.google.com/github/seungyi06/class2022spring/blob/main/20220328.ipynb\" target=\"_parent\"><img src=\"https://colab.research.google.com/assets/colab-badge.svg\" alt=\"Open In Colab\"/></a>"
      ]
    },
    {
      "cell_type": "markdown",
      "source": [
        "# 도로교통공단_사망교통사고정보서비스\n",
        "\n",
        "https://www.data.go.kr/tcs/dss/selectApiDataDetailView.do?publicDataPk=15059126"
      ],
      "metadata": {
        "id": "xwGvriSP4JuT"
      }
    },
    {
      "cell_type": "code",
      "source": [
        "!pip install gradio\n",
        "import gradio as gr\n",
        "import requests\n",
        "import pandas as pd"
      ],
      "metadata": {
        "colab": {
          "base_uri": "https://localhost:8080/"
        },
        "id": "EtsUapsIt6Gh",
        "outputId": "23589898-3538-48a4-8f62-0a39bff9b06d"
      },
      "execution_count": null,
      "outputs": [
        {
          "output_type": "stream",
          "name": "stdout",
          "text": [
            "Collecting gradio\n",
            "  Downloading gradio-2.9.1-py3-none-any.whl (1.7 MB)\n",
            "\u001b[?25l\r\u001b[K     |▏                               | 10 kB 16.9 MB/s eta 0:00:01\r\u001b[K     |▍                               | 20 kB 22.3 MB/s eta 0:00:01\r\u001b[K     |▋                               | 30 kB 20.2 MB/s eta 0:00:01\r\u001b[K     |▊                               | 40 kB 16.2 MB/s eta 0:00:01\r\u001b[K     |█                               | 51 kB 7.9 MB/s eta 0:00:01\r\u001b[K     |█▏                              | 61 kB 9.3 MB/s eta 0:00:01\r\u001b[K     |█▎                              | 71 kB 9.0 MB/s eta 0:00:01\r\u001b[K     |█▌                              | 81 kB 9.3 MB/s eta 0:00:01\r\u001b[K     |█▊                              | 92 kB 10.3 MB/s eta 0:00:01\r\u001b[K     |█▉                              | 102 kB 8.6 MB/s eta 0:00:01\r\u001b[K     |██                              | 112 kB 8.6 MB/s eta 0:00:01\r\u001b[K     |██▎                             | 122 kB 8.6 MB/s eta 0:00:01\r\u001b[K     |██▍                             | 133 kB 8.6 MB/s eta 0:00:01\r\u001b[K     |██▋                             | 143 kB 8.6 MB/s eta 0:00:01\r\u001b[K     |██▉                             | 153 kB 8.6 MB/s eta 0:00:01\r\u001b[K     |███                             | 163 kB 8.6 MB/s eta 0:00:01\r\u001b[K     |███▏                            | 174 kB 8.6 MB/s eta 0:00:01\r\u001b[K     |███▍                            | 184 kB 8.6 MB/s eta 0:00:01\r\u001b[K     |███▋                            | 194 kB 8.6 MB/s eta 0:00:01\r\u001b[K     |███▊                            | 204 kB 8.6 MB/s eta 0:00:01\r\u001b[K     |████                            | 215 kB 8.6 MB/s eta 0:00:01\r\u001b[K     |████▏                           | 225 kB 8.6 MB/s eta 0:00:01\r\u001b[K     |████▎                           | 235 kB 8.6 MB/s eta 0:00:01\r\u001b[K     |████▌                           | 245 kB 8.6 MB/s eta 0:00:01\r\u001b[K     |████▊                           | 256 kB 8.6 MB/s eta 0:00:01\r\u001b[K     |████▉                           | 266 kB 8.6 MB/s eta 0:00:01\r\u001b[K     |█████                           | 276 kB 8.6 MB/s eta 0:00:01\r\u001b[K     |█████▎                          | 286 kB 8.6 MB/s eta 0:00:01\r\u001b[K     |█████▍                          | 296 kB 8.6 MB/s eta 0:00:01\r\u001b[K     |█████▋                          | 307 kB 8.6 MB/s eta 0:00:01\r\u001b[K     |█████▉                          | 317 kB 8.6 MB/s eta 0:00:01\r\u001b[K     |██████                          | 327 kB 8.6 MB/s eta 0:00:01\r\u001b[K     |██████▏                         | 337 kB 8.6 MB/s eta 0:00:01\r\u001b[K     |██████▍                         | 348 kB 8.6 MB/s eta 0:00:01\r\u001b[K     |██████▌                         | 358 kB 8.6 MB/s eta 0:00:01\r\u001b[K     |██████▊                         | 368 kB 8.6 MB/s eta 0:00:01\r\u001b[K     |███████                         | 378 kB 8.6 MB/s eta 0:00:01\r\u001b[K     |███████▏                        | 389 kB 8.6 MB/s eta 0:00:01\r\u001b[K     |███████▎                        | 399 kB 8.6 MB/s eta 0:00:01\r\u001b[K     |███████▌                        | 409 kB 8.6 MB/s eta 0:00:01\r\u001b[K     |███████▊                        | 419 kB 8.6 MB/s eta 0:00:01\r\u001b[K     |███████▉                        | 430 kB 8.6 MB/s eta 0:00:01\r\u001b[K     |████████                        | 440 kB 8.6 MB/s eta 0:00:01\r\u001b[K     |████████▎                       | 450 kB 8.6 MB/s eta 0:00:01\r\u001b[K     |████████▍                       | 460 kB 8.6 MB/s eta 0:00:01\r\u001b[K     |████████▋                       | 471 kB 8.6 MB/s eta 0:00:01\r\u001b[K     |████████▉                       | 481 kB 8.6 MB/s eta 0:00:01\r\u001b[K     |█████████                       | 491 kB 8.6 MB/s eta 0:00:01\r\u001b[K     |█████████▏                      | 501 kB 8.6 MB/s eta 0:00:01\r\u001b[K     |█████████▍                      | 512 kB 8.6 MB/s eta 0:00:01\r\u001b[K     |█████████▌                      | 522 kB 8.6 MB/s eta 0:00:01\r\u001b[K     |█████████▊                      | 532 kB 8.6 MB/s eta 0:00:01\r\u001b[K     |██████████                      | 542 kB 8.6 MB/s eta 0:00:01\r\u001b[K     |██████████▏                     | 552 kB 8.6 MB/s eta 0:00:01\r\u001b[K     |██████████▎                     | 563 kB 8.6 MB/s eta 0:00:01\r\u001b[K     |██████████▌                     | 573 kB 8.6 MB/s eta 0:00:01\r\u001b[K     |██████████▊                     | 583 kB 8.6 MB/s eta 0:00:01\r\u001b[K     |██████████▉                     | 593 kB 8.6 MB/s eta 0:00:01\r\u001b[K     |███████████                     | 604 kB 8.6 MB/s eta 0:00:01\r\u001b[K     |███████████▎                    | 614 kB 8.6 MB/s eta 0:00:01\r\u001b[K     |███████████▍                    | 624 kB 8.6 MB/s eta 0:00:01\r\u001b[K     |███████████▋                    | 634 kB 8.6 MB/s eta 0:00:01\r\u001b[K     |███████████▉                    | 645 kB 8.6 MB/s eta 0:00:01\r\u001b[K     |████████████                    | 655 kB 8.6 MB/s eta 0:00:01\r\u001b[K     |████████████▏                   | 665 kB 8.6 MB/s eta 0:00:01\r\u001b[K     |████████████▍                   | 675 kB 8.6 MB/s eta 0:00:01\r\u001b[K     |████████████▌                   | 686 kB 8.6 MB/s eta 0:00:01\r\u001b[K     |████████████▊                   | 696 kB 8.6 MB/s eta 0:00:01\r\u001b[K     |█████████████                   | 706 kB 8.6 MB/s eta 0:00:01\r\u001b[K     |█████████████                   | 716 kB 8.6 MB/s eta 0:00:01\r\u001b[K     |█████████████▎                  | 727 kB 8.6 MB/s eta 0:00:01\r\u001b[K     |█████████████▌                  | 737 kB 8.6 MB/s eta 0:00:01\r\u001b[K     |█████████████▊                  | 747 kB 8.6 MB/s eta 0:00:01\r\u001b[K     |█████████████▉                  | 757 kB 8.6 MB/s eta 0:00:01\r\u001b[K     |██████████████                  | 768 kB 8.6 MB/s eta 0:00:01\r\u001b[K     |██████████████▎                 | 778 kB 8.6 MB/s eta 0:00:01\r\u001b[K     |██████████████▍                 | 788 kB 8.6 MB/s eta 0:00:01\r\u001b[K     |██████████████▋                 | 798 kB 8.6 MB/s eta 0:00:01\r\u001b[K     |██████████████▉                 | 808 kB 8.6 MB/s eta 0:00:01\r\u001b[K     |███████████████                 | 819 kB 8.6 MB/s eta 0:00:01\r\u001b[K     |███████████████▏                | 829 kB 8.6 MB/s eta 0:00:01\r\u001b[K     |███████████████▍                | 839 kB 8.6 MB/s eta 0:00:01\r\u001b[K     |███████████████▌                | 849 kB 8.6 MB/s eta 0:00:01\r\u001b[K     |███████████████▊                | 860 kB 8.6 MB/s eta 0:00:01\r\u001b[K     |████████████████                | 870 kB 8.6 MB/s eta 0:00:01\r\u001b[K     |████████████████                | 880 kB 8.6 MB/s eta 0:00:01\r\u001b[K     |████████████████▎               | 890 kB 8.6 MB/s eta 0:00:01\r\u001b[K     |████████████████▌               | 901 kB 8.6 MB/s eta 0:00:01\r\u001b[K     |████████████████▋               | 911 kB 8.6 MB/s eta 0:00:01\r\u001b[K     |████████████████▉               | 921 kB 8.6 MB/s eta 0:00:01\r\u001b[K     |█████████████████               | 931 kB 8.6 MB/s eta 0:00:01\r\u001b[K     |█████████████████▎              | 942 kB 8.6 MB/s eta 0:00:01\r\u001b[K     |█████████████████▍              | 952 kB 8.6 MB/s eta 0:00:01\r\u001b[K     |█████████████████▋              | 962 kB 8.6 MB/s eta 0:00:01\r\u001b[K     |█████████████████▉              | 972 kB 8.6 MB/s eta 0:00:01\r\u001b[K     |██████████████████              | 983 kB 8.6 MB/s eta 0:00:01\r\u001b[K     |██████████████████▏             | 993 kB 8.6 MB/s eta 0:00:01\r\u001b[K     |██████████████████▍             | 1.0 MB 8.6 MB/s eta 0:00:01\r\u001b[K     |██████████████████▌             | 1.0 MB 8.6 MB/s eta 0:00:01\r\u001b[K     |██████████████████▊             | 1.0 MB 8.6 MB/s eta 0:00:01\r\u001b[K     |███████████████████             | 1.0 MB 8.6 MB/s eta 0:00:01\r\u001b[K     |███████████████████             | 1.0 MB 8.6 MB/s eta 0:00:01\r\u001b[K     |███████████████████▎            | 1.1 MB 8.6 MB/s eta 0:00:01\r\u001b[K     |███████████████████▌            | 1.1 MB 8.6 MB/s eta 0:00:01\r\u001b[K     |███████████████████▋            | 1.1 MB 8.6 MB/s eta 0:00:01\r\u001b[K     |███████████████████▉            | 1.1 MB 8.6 MB/s eta 0:00:01\r\u001b[K     |████████████████████            | 1.1 MB 8.6 MB/s eta 0:00:01\r\u001b[K     |████████████████████▎           | 1.1 MB 8.6 MB/s eta 0:00:01\r\u001b[K     |████████████████████▍           | 1.1 MB 8.6 MB/s eta 0:00:01\r\u001b[K     |████████████████████▋           | 1.1 MB 8.6 MB/s eta 0:00:01\r\u001b[K     |████████████████████▉           | 1.1 MB 8.6 MB/s eta 0:00:01\r\u001b[K     |█████████████████████           | 1.1 MB 8.6 MB/s eta 0:00:01\r\u001b[K     |█████████████████████▏          | 1.2 MB 8.6 MB/s eta 0:00:01\r\u001b[K     |█████████████████████▍          | 1.2 MB 8.6 MB/s eta 0:00:01\r\u001b[K     |█████████████████████▌          | 1.2 MB 8.6 MB/s eta 0:00:01\r\u001b[K     |█████████████████████▊          | 1.2 MB 8.6 MB/s eta 0:00:01\r\u001b[K     |██████████████████████          | 1.2 MB 8.6 MB/s eta 0:00:01\r\u001b[K     |██████████████████████          | 1.2 MB 8.6 MB/s eta 0:00:01\r\u001b[K     |██████████████████████▎         | 1.2 MB 8.6 MB/s eta 0:00:01\r\u001b[K     |██████████████████████▌         | 1.2 MB 8.6 MB/s eta 0:00:01\r\u001b[K     |██████████████████████▋         | 1.2 MB 8.6 MB/s eta 0:00:01\r\u001b[K     |██████████████████████▉         | 1.2 MB 8.6 MB/s eta 0:00:01\r\u001b[K     |███████████████████████         | 1.3 MB 8.6 MB/s eta 0:00:01\r\u001b[K     |███████████████████████▏        | 1.3 MB 8.6 MB/s eta 0:00:01\r\u001b[K     |███████████████████████▍        | 1.3 MB 8.6 MB/s eta 0:00:01\r\u001b[K     |███████████████████████▋        | 1.3 MB 8.6 MB/s eta 0:00:01\r\u001b[K     |███████████████████████▉        | 1.3 MB 8.6 MB/s eta 0:00:01\r\u001b[K     |████████████████████████        | 1.3 MB 8.6 MB/s eta 0:00:01\r\u001b[K     |████████████████████████▏       | 1.3 MB 8.6 MB/s eta 0:00:01\r\u001b[K     |████████████████████████▍       | 1.3 MB 8.6 MB/s eta 0:00:01\r\u001b[K     |████████████████████████▌       | 1.3 MB 8.6 MB/s eta 0:00:01\r\u001b[K     |████████████████████████▊       | 1.4 MB 8.6 MB/s eta 0:00:01\r\u001b[K     |█████████████████████████       | 1.4 MB 8.6 MB/s eta 0:00:01\r\u001b[K     |█████████████████████████       | 1.4 MB 8.6 MB/s eta 0:00:01\r\u001b[K     |█████████████████████████▎      | 1.4 MB 8.6 MB/s eta 0:00:01\r\u001b[K     |█████████████████████████▌      | 1.4 MB 8.6 MB/s eta 0:00:01\r\u001b[K     |█████████████████████████▋      | 1.4 MB 8.6 MB/s eta 0:00:01\r\u001b[K     |█████████████████████████▉      | 1.4 MB 8.6 MB/s eta 0:00:01\r\u001b[K     |██████████████████████████      | 1.4 MB 8.6 MB/s eta 0:00:01\r\u001b[K     |██████████████████████████▏     | 1.4 MB 8.6 MB/s eta 0:00:01\r\u001b[K     |██████████████████████████▍     | 1.4 MB 8.6 MB/s eta 0:00:01\r\u001b[K     |██████████████████████████▋     | 1.5 MB 8.6 MB/s eta 0:00:01\r\u001b[K     |██████████████████████████▊     | 1.5 MB 8.6 MB/s eta 0:00:01\r\u001b[K     |███████████████████████████     | 1.5 MB 8.6 MB/s eta 0:00:01\r\u001b[K     |███████████████████████████▏    | 1.5 MB 8.6 MB/s eta 0:00:01\r\u001b[K     |███████████████████████████▍    | 1.5 MB 8.6 MB/s eta 0:00:01\r\u001b[K     |███████████████████████████▌    | 1.5 MB 8.6 MB/s eta 0:00:01\r\u001b[K     |███████████████████████████▊    | 1.5 MB 8.6 MB/s eta 0:00:01\r\u001b[K     |████████████████████████████    | 1.5 MB 8.6 MB/s eta 0:00:01\r\u001b[K     |████████████████████████████    | 1.5 MB 8.6 MB/s eta 0:00:01\r\u001b[K     |████████████████████████████▎   | 1.5 MB 8.6 MB/s eta 0:00:01\r\u001b[K     |████████████████████████████▌   | 1.6 MB 8.6 MB/s eta 0:00:01\r\u001b[K     |████████████████████████████▋   | 1.6 MB 8.6 MB/s eta 0:00:01\r\u001b[K     |████████████████████████████▉   | 1.6 MB 8.6 MB/s eta 0:00:01\r\u001b[K     |█████████████████████████████   | 1.6 MB 8.6 MB/s eta 0:00:01\r\u001b[K     |█████████████████████████████▏  | 1.6 MB 8.6 MB/s eta 0:00:01\r\u001b[K     |█████████████████████████████▍  | 1.6 MB 8.6 MB/s eta 0:00:01\r\u001b[K     |█████████████████████████████▋  | 1.6 MB 8.6 MB/s eta 0:00:01\r\u001b[K     |█████████████████████████████▊  | 1.6 MB 8.6 MB/s eta 0:00:01\r\u001b[K     |██████████████████████████████  | 1.6 MB 8.6 MB/s eta 0:00:01\r\u001b[K     |██████████████████████████████▏ | 1.6 MB 8.6 MB/s eta 0:00:01\r\u001b[K     |██████████████████████████████▍ | 1.7 MB 8.6 MB/s eta 0:00:01\r\u001b[K     |██████████████████████████████▌ | 1.7 MB 8.6 MB/s eta 0:00:01\r\u001b[K     |██████████████████████████████▊ | 1.7 MB 8.6 MB/s eta 0:00:01\r\u001b[K     |███████████████████████████████ | 1.7 MB 8.6 MB/s eta 0:00:01\r\u001b[K     |███████████████████████████████ | 1.7 MB 8.6 MB/s eta 0:00:01\r\u001b[K     |███████████████████████████████▎| 1.7 MB 8.6 MB/s eta 0:00:01\r\u001b[K     |███████████████████████████████▌| 1.7 MB 8.6 MB/s eta 0:00:01\r\u001b[K     |███████████████████████████████▋| 1.7 MB 8.6 MB/s eta 0:00:01\r\u001b[K     |███████████████████████████████▉| 1.7 MB 8.6 MB/s eta 0:00:01\r\u001b[K     |████████████████████████████████| 1.7 MB 8.6 MB/s \n",
            "\u001b[?25hRequirement already satisfied: pillow in /usr/local/lib/python3.7/dist-packages (from gradio) (7.1.2)\n",
            "Collecting fastapi\n",
            "  Downloading fastapi-0.75.1-py3-none-any.whl (54 kB)\n",
            "\u001b[K     |████████████████████████████████| 54 kB 761 kB/s \n",
            "\u001b[?25hCollecting paramiko\n",
            "  Downloading paramiko-2.10.3-py2.py3-none-any.whl (211 kB)\n",
            "\u001b[K     |████████████████████████████████| 211 kB 58.4 MB/s \n",
            "\u001b[?25hCollecting orjson\n",
            "  Downloading orjson-3.6.7-cp37-cp37m-manylinux_2_24_x86_64.whl (255 kB)\n",
            "\u001b[K     |████████████████████████████████| 255 kB 58.6 MB/s \n",
            "\u001b[?25hCollecting pycryptodome\n",
            "  Downloading pycryptodome-3.14.1-cp35-abi3-manylinux2010_x86_64.whl (2.0 MB)\n",
            "\u001b[K     |████████████████████████████████| 2.0 MB 39.5 MB/s \n",
            "\u001b[?25hCollecting python-multipart\n",
            "  Downloading python-multipart-0.0.5.tar.gz (32 kB)\n",
            "Requirement already satisfied: numpy in /usr/local/lib/python3.7/dist-packages (from gradio) (1.21.5)\n",
            "Requirement already satisfied: pandas in /usr/local/lib/python3.7/dist-packages (from gradio) (1.3.5)\n",
            "Collecting pydub\n",
            "  Downloading pydub-0.25.1-py2.py3-none-any.whl (32 kB)\n",
            "Collecting ffmpy\n",
            "  Downloading ffmpy-0.3.0.tar.gz (4.8 kB)\n",
            "Collecting markdown-it-py[linkify,plugins]\n",
            "  Downloading markdown_it_py-2.0.1-py3-none-any.whl (84 kB)\n",
            "\u001b[K     |████████████████████████████████| 84 kB 3.0 MB/s \n",
            "\u001b[?25hCollecting analytics-python\n",
            "  Downloading analytics_python-1.4.0-py2.py3-none-any.whl (15 kB)\n",
            "Requirement already satisfied: requests in /usr/local/lib/python3.7/dist-packages (from gradio) (2.23.0)\n",
            "Collecting aiohttp\n",
            "  Downloading aiohttp-3.8.1-cp37-cp37m-manylinux_2_5_x86_64.manylinux1_x86_64.manylinux_2_12_x86_64.manylinux2010_x86_64.whl (1.1 MB)\n",
            "\u001b[K     |████████████████████████████████| 1.1 MB 50.8 MB/s \n",
            "\u001b[?25hCollecting uvicorn\n",
            "  Downloading uvicorn-0.17.6-py3-none-any.whl (53 kB)\n",
            "\u001b[K     |████████████████████████████████| 53 kB 2.5 MB/s \n",
            "\u001b[?25hRequirement already satisfied: matplotlib in /usr/local/lib/python3.7/dist-packages (from gradio) (3.2.2)\n",
            "Collecting multidict<7.0,>=4.5\n",
            "  Downloading multidict-6.0.2-cp37-cp37m-manylinux_2_17_x86_64.manylinux2014_x86_64.whl (94 kB)\n",
            "\u001b[K     |████████████████████████████████| 94 kB 3.4 MB/s \n",
            "\u001b[?25hCollecting frozenlist>=1.1.1\n",
            "  Downloading frozenlist-1.3.0-cp37-cp37m-manylinux_2_5_x86_64.manylinux1_x86_64.manylinux_2_17_x86_64.manylinux2014_x86_64.whl (144 kB)\n",
            "\u001b[K     |████████████████████████████████| 144 kB 30.5 MB/s \n",
            "\u001b[?25hRequirement already satisfied: typing-extensions>=3.7.4 in /usr/local/lib/python3.7/dist-packages (from aiohttp->gradio) (3.10.0.2)\n",
            "Collecting async-timeout<5.0,>=4.0.0a3\n",
            "  Downloading async_timeout-4.0.2-py3-none-any.whl (5.8 kB)\n",
            "Collecting asynctest==0.13.0\n",
            "  Downloading asynctest-0.13.0-py3-none-any.whl (26 kB)\n",
            "Collecting aiosignal>=1.1.2\n",
            "  Downloading aiosignal-1.2.0-py3-none-any.whl (8.2 kB)\n",
            "Requirement already satisfied: attrs>=17.3.0 in /usr/local/lib/python3.7/dist-packages (from aiohttp->gradio) (21.4.0)\n",
            "Collecting yarl<2.0,>=1.0\n",
            "  Downloading yarl-1.7.2-cp37-cp37m-manylinux_2_5_x86_64.manylinux1_x86_64.manylinux_2_12_x86_64.manylinux2010_x86_64.whl (271 kB)\n",
            "\u001b[K     |████████████████████████████████| 271 kB 41.3 MB/s \n",
            "\u001b[?25hRequirement already satisfied: charset-normalizer<3.0,>=2.0 in /usr/local/lib/python3.7/dist-packages (from aiohttp->gradio) (2.0.12)\n",
            "Requirement already satisfied: idna>=2.0 in /usr/local/lib/python3.7/dist-packages (from yarl<2.0,>=1.0->aiohttp->gradio) (2.10)\n",
            "Collecting backoff==1.10.0\n",
            "  Downloading backoff-1.10.0-py2.py3-none-any.whl (31 kB)\n",
            "Requirement already satisfied: six>=1.5 in /usr/local/lib/python3.7/dist-packages (from analytics-python->gradio) (1.15.0)\n",
            "Collecting monotonic>=1.5\n",
            "  Downloading monotonic-1.6-py2.py3-none-any.whl (8.2 kB)\n",
            "Requirement already satisfied: python-dateutil>2.1 in /usr/local/lib/python3.7/dist-packages (from analytics-python->gradio) (2.8.2)\n",
            "Requirement already satisfied: urllib3!=1.25.0,!=1.25.1,<1.26,>=1.21.1 in /usr/local/lib/python3.7/dist-packages (from requests->gradio) (1.24.3)\n",
            "Requirement already satisfied: chardet<4,>=3.0.2 in /usr/local/lib/python3.7/dist-packages (from requests->gradio) (3.0.4)\n",
            "Requirement already satisfied: certifi>=2017.4.17 in /usr/local/lib/python3.7/dist-packages (from requests->gradio) (2021.10.8)\n",
            "Collecting starlette==0.17.1\n",
            "  Downloading starlette-0.17.1-py3-none-any.whl (58 kB)\n",
            "\u001b[K     |████████████████████████████████| 58 kB 5.9 MB/s \n",
            "\u001b[?25hCollecting pydantic!=1.7,!=1.7.1,!=1.7.2,!=1.7.3,!=1.8,!=1.8.1,<2.0.0,>=1.6.2\n",
            "  Downloading pydantic-1.9.0-cp37-cp37m-manylinux_2_17_x86_64.manylinux2014_x86_64.whl (10.9 MB)\n",
            "\u001b[K     |████████████████████████████████| 10.9 MB 47.7 MB/s \n",
            "\u001b[?25hCollecting anyio<4,>=3.0.0\n",
            "  Downloading anyio-3.5.0-py3-none-any.whl (79 kB)\n",
            "\u001b[K     |████████████████████████████████| 79 kB 5.0 MB/s \n",
            "\u001b[?25hCollecting sniffio>=1.1\n",
            "  Downloading sniffio-1.2.0-py3-none-any.whl (10 kB)\n",
            "Collecting mdurl~=0.1\n",
            "  Downloading mdurl-0.1.0-py3-none-any.whl (11 kB)\n",
            "Collecting mdit-py-plugins\n",
            "  Downloading mdit_py_plugins-0.3.0-py3-none-any.whl (43 kB)\n",
            "\u001b[K     |████████████████████████████████| 43 kB 1.5 MB/s \n",
            "\u001b[?25hCollecting linkify-it-py~=1.0\n",
            "  Downloading linkify_it_py-1.0.3-py3-none-any.whl (19 kB)\n",
            "Collecting uc-micro-py\n",
            "  Downloading uc_micro_py-1.0.1-py3-none-any.whl (6.2 kB)\n",
            "Requirement already satisfied: pyparsing!=2.0.4,!=2.1.2,!=2.1.6,>=2.0.1 in /usr/local/lib/python3.7/dist-packages (from matplotlib->gradio) (3.0.7)\n",
            "Requirement already satisfied: cycler>=0.10 in /usr/local/lib/python3.7/dist-packages (from matplotlib->gradio) (0.11.0)\n",
            "Requirement already satisfied: kiwisolver>=1.0.1 in /usr/local/lib/python3.7/dist-packages (from matplotlib->gradio) (1.4.0)\n",
            "Requirement already satisfied: pytz>=2017.3 in /usr/local/lib/python3.7/dist-packages (from pandas->gradio) (2018.9)\n",
            "Collecting pynacl>=1.0.1\n",
            "  Downloading PyNaCl-1.5.0-cp36-abi3-manylinux_2_17_x86_64.manylinux2014_x86_64.manylinux_2_24_x86_64.whl (856 kB)\n",
            "\u001b[K     |████████████████████████████████| 856 kB 45.9 MB/s \n",
            "\u001b[?25hCollecting bcrypt>=3.1.3\n",
            "  Downloading bcrypt-3.2.0-cp36-abi3-manylinux_2_17_x86_64.manylinux2014_x86_64.manylinux_2_24_x86_64.whl (61 kB)\n",
            "\u001b[K     |████████████████████████████████| 61 kB 472 kB/s \n",
            "\u001b[?25hCollecting cryptography>=2.5\n",
            "  Downloading cryptography-36.0.2-cp36-abi3-manylinux_2_24_x86_64.whl (3.6 MB)\n",
            "\u001b[K     |████████████████████████████████| 3.6 MB 34.1 MB/s \n",
            "\u001b[?25hRequirement already satisfied: cffi>=1.1 in /usr/local/lib/python3.7/dist-packages (from bcrypt>=3.1.3->paramiko->gradio) (1.15.0)\n",
            "Requirement already satisfied: pycparser in /usr/local/lib/python3.7/dist-packages (from cffi>=1.1->bcrypt>=3.1.3->paramiko->gradio) (2.21)\n",
            "Collecting asgiref>=3.4.0\n",
            "  Downloading asgiref-3.5.0-py3-none-any.whl (22 kB)\n",
            "Requirement already satisfied: click>=7.0 in /usr/local/lib/python3.7/dist-packages (from uvicorn->gradio) (7.1.2)\n",
            "Collecting h11>=0.8\n",
            "  Downloading h11-0.13.0-py3-none-any.whl (58 kB)\n",
            "\u001b[K     |████████████████████████████████| 58 kB 6.3 MB/s \n",
            "\u001b[?25hBuilding wheels for collected packages: ffmpy, python-multipart\n",
            "  Building wheel for ffmpy (setup.py) ... \u001b[?25l\u001b[?25hdone\n",
            "  Created wheel for ffmpy: filename=ffmpy-0.3.0-py3-none-any.whl size=4712 sha256=49311ef84d37a4ac646305f83d9234ce71840ebdee03a5c1cf4e26ab3d5c9dfd\n",
            "  Stored in directory: /root/.cache/pip/wheels/13/e4/6c/e8059816e86796a597c6e6b0d4c880630f51a1fcfa0befd5e6\n",
            "  Building wheel for python-multipart (setup.py) ... \u001b[?25l\u001b[?25hdone\n",
            "  Created wheel for python-multipart: filename=python_multipart-0.0.5-py3-none-any.whl size=31678 sha256=1ec6eaa41b0c62635d898b889045b12f91fe452460b2a112e29dab04bc7b72d7\n",
            "  Stored in directory: /root/.cache/pip/wheels/2c/41/7c/bfd1c180534ffdcc0972f78c5758f89881602175d48a8bcd2c\n",
            "Successfully built ffmpy python-multipart\n",
            "Installing collected packages: sniffio, mdurl, uc-micro-py, multidict, markdown-it-py, frozenlist, anyio, yarl, starlette, pynacl, pydantic, monotonic, mdit-py-plugins, linkify-it-py, h11, cryptography, bcrypt, backoff, asynctest, async-timeout, asgiref, aiosignal, uvicorn, python-multipart, pydub, pycryptodome, paramiko, orjson, ffmpy, fastapi, analytics-python, aiohttp, gradio\n",
            "Successfully installed aiohttp-3.8.1 aiosignal-1.2.0 analytics-python-1.4.0 anyio-3.5.0 asgiref-3.5.0 async-timeout-4.0.2 asynctest-0.13.0 backoff-1.10.0 bcrypt-3.2.0 cryptography-36.0.2 fastapi-0.75.1 ffmpy-0.3.0 frozenlist-1.3.0 gradio-2.9.1 h11-0.13.0 linkify-it-py-1.0.3 markdown-it-py-2.0.1 mdit-py-plugins-0.3.0 mdurl-0.1.0 monotonic-1.6 multidict-6.0.2 orjson-3.6.7 paramiko-2.10.3 pycryptodome-3.14.1 pydantic-1.9.0 pydub-0.25.1 pynacl-1.5.0 python-multipart-0.0.5 sniffio-1.2.0 starlette-0.17.1 uc-micro-py-1.0.1 uvicorn-0.17.6 yarl-1.7.2\n"
          ]
        }
      ]
    },
    {
      "cell_type": "markdown",
      "source": [
        "**방법1**"
      ],
      "metadata": {
        "id": "q7Y6opJyv5Mj"
      }
    },
    {
      "cell_type": "code",
      "source": [
        "URL = ('http://apis.data.go.kr/B552061/AccidentDeath/'\n",
        "     'getRestTrafficAccidentDeath?ServiceKey=PxEwJIbIxlr4FoTgG3fi7jRUsRmN9lJUwQcSFAYF4egJ2fd1n5BO%2F7sINaT%2BXBQDJeJVh1JwWyIXMCpIdRwDew%3D%3D'\n",
        "     '&searchYear=2020'\n",
        "     '&siDo=1100'\n",
        "     '&guGun=1116'\n",
        "     '&numOfRows=20'\n",
        "     '&pageNo=1'\n",
        "     '&type=json')\n",
        "response = requests.get(URL)\n",
        "r = response.json()"
      ],
      "metadata": {
        "id": "wE30cuzAvOMM"
      },
      "execution_count": null,
      "outputs": []
    },
    {
      "cell_type": "code",
      "source": [
        "item = r['items']['item']\n",
        "\n",
        "acc_year = [items['acc_year'] for items in item]\n",
        "occrrnc_dt = [items['occrrnc_dt'] for items in item]\n",
        "acc_ty_cd = [items['acc_ty_cd'] for items in item]\n",
        "aslt_vtr_cd = [items['aslt_vtr_cd'] for items in item]\n",
        "dth_dnv_cnt = [items['dth_dnv_cnt'] for items in item]\n",
        "injpsn_cnt = [items['injpsn_cnt'] for items in item]\n",
        "\n",
        "acc_year = pd.Series(acc_year)\n",
        "occrrnc_dt = pd.Series(occrrnc_dt)\n",
        "acc_ty_cd = pd.Series(acc_ty_cd)\n",
        "aslt_vtr_cd = pd.Series(aslt_vtr_cd)\n",
        "dth_dnv_cnt = pd.Series(dth_dnv_cnt)\n",
        "injpsn_cnt = pd.Series(injpsn_cnt)\n",
        "\n",
        "df = pd.DataFrame({ 'acc_year': acc_year, 'occrrnc_dt': occrrnc_dt, 'acc_ty_cd': acc_ty_cd, 'aslt_vtr_cd': aslt_vtr_cd, 'dth_dnv_cnt': dth_dnv_cnt, 'injpsn_cnt': injpsn_cnt})"
      ],
      "metadata": {
        "id": "qBnheaopvOJi"
      },
      "execution_count": null,
      "outputs": []
    },
    {
      "cell_type": "code",
      "source": [
        "def test(searchYear):\n",
        "    URL = ('http://apis.data.go.kr/B552061/AccidentDeath/'\n",
        "         'getRestTrafficAccidentDeath?ServiceKey=PxEwJIbIxlr4FoTgG3fi7jRUsRmN9lJUwQcSFAYF4egJ2fd1n5BO%2F7sINaT%2BXBQDJeJVh1JwWyIXMCpIdRwDew%3D%3D'\n",
        "         'searchYear='+searchYear+\n",
        "         '&siDo=1100'\n",
        "         '&guGun=1116'\n",
        "         '&numOfRows=20'\n",
        "         '&pageNo=1'\n",
        "         '&type=json')\n",
        "  \n",
        "    response = requests.get(URL)\n",
        "    r = response.json()\n",
        "    item = r['items']['item']\n",
        "\n",
        "    acc_year = [items['acc_year'] for items in item]\n",
        "    occrrnc_dt = [items['occrrnc_dt'] for items in item]\n",
        "    acc_ty_cd = [items['acc_ty_cd'] for items in item]\n",
        "    aslt_vtr_cd = [items['aslt_vtr_cd'] for items in item]\n",
        "    dth_dnv_cnt = [items['dth_dnv_cnt'] for items in item]\n",
        "    injpsn_cnt = [items['injpsn_cnt'] for items in item]\n",
        "\n",
        "    acc_year = pd.Series(acc_year)\n",
        "    occrrnc_dt = pd.Series(occrrnc_dt)\n",
        "    acc_ty_cd = pd.Series(acc_ty_cd)\n",
        "    aslt_vtr_cd = pd.Series(aslt_vtr_cd)\n",
        "    dth_dnv_cnt = pd.Series(dth_dnv_cnt)\n",
        "    injpsn_cnt = pd.Series(injpsn_cnt)\n",
        "\n",
        "    df = pd.DataFrame({ 'acc_year': acc_year, 'occrrnc_dt': occrrnc_dt, 'acc_ty_cd': acc_ty_cd, 'aslt_vtr_cd': aslt_vtr_cd, 'dth_dnv_cnt': dth_dnv_cnt, 'injpsn_cnt': injpsn_cnt})\n",
        "    return df"
      ],
      "metadata": {
        "id": "MBWa0QcnvGEu"
      },
      "execution_count": null,
      "outputs": []
    },
    {
      "cell_type": "code",
      "source": [
        "iface = gr.Interface(test, gr.inputs.Dropdown(['2020', '2019', '2018', '2017', '2016', '2015', '2014', '2013', '2012']), outputs=['dataframe'])\n",
        "iface.launch(debug=True)"
      ],
      "metadata": {
        "id": "HgJAqDHgvGBK",
        "outputId": "835b00c6-17be-487f-963f-bfd93aade8f8",
        "colab": {
          "base_uri": "https://localhost:8080/",
          "height": 1000
        }
      },
      "execution_count": null,
      "outputs": [
        {
          "metadata": {
            "tags": null
          },
          "name": "stdout",
          "output_type": "stream",
          "text": [
            "Colab notebook detected. This cell will run indefinitely so that you can see errors and logs. To turn off, set debug=False in launch().\n",
            "Running on public URL: https://32480.gradio.app\n",
            "\n",
            "This share link expires in 72 hours. For free permanent hosting, check out Spaces (https://huggingface.co/spaces)\n"
          ]
        },
        {
          "data": {
            "text/html": [
              "\n",
              "        <iframe\n",
              "            width=\"900\"\n",
              "            height=\"500\"\n",
              "            src=\"https://32480.gradio.app\"\n",
              "            frameborder=\"0\"\n",
              "            allowfullscreen\n",
              "        ></iframe>\n",
              "        "
            ],
            "text/plain": [
              "<IPython.lib.display.IFrame at 0x7f72bf8e7d50>"
            ]
          },
          "metadata": {},
          "output_type": "display_data"
        },
        {
          "metadata": {
            "tags": null
          },
          "name": "stderr",
          "output_type": "stream",
          "text": [
            "Traceback (most recent call last):\n",
            "  File \"/usr/local/lib/python3.7/dist-packages/gradio/routes.py\", line 269, in predict\n",
            "    output = await run_in_threadpool(app.launchable.process_api, body, username)\n",
            "  File \"/usr/local/lib/python3.7/dist-packages/starlette/concurrency.py\", line 39, in run_in_threadpool\n",
            "    return await anyio.to_thread.run_sync(func, *args)\n",
            "  File \"/usr/local/lib/python3.7/dist-packages/anyio/to_thread.py\", line 29, in run_sync\n",
            "    limiter=limiter)\n",
            "  File \"/usr/local/lib/python3.7/dist-packages/anyio/_backends/_asyncio.py\", line 818, in run_sync_in_worker_thread\n",
            "    return await future\n",
            "  File \"/usr/local/lib/python3.7/dist-packages/anyio/_backends/_asyncio.py\", line 754, in run\n",
            "    result = context.run(func, *args)\n",
            "  File \"/usr/local/lib/python3.7/dist-packages/gradio/interface.py\", line 573, in process_api\n",
            "    prediction, durations = self.process(raw_input)\n",
            "  File \"/usr/local/lib/python3.7/dist-packages/gradio/interface.py\", line 616, in process\n",
            "    processed_input, return_duration=True\n",
            "  File \"/usr/local/lib/python3.7/dist-packages/gradio/interface.py\", line 531, in run_prediction\n",
            "    prediction = predict_fn(*processed_input)\n",
            "  File \"<ipython-input-4-6599f7c06403>\", line 12, in test\n",
            "    r = response.json()\n",
            "  File \"/usr/local/lib/python3.7/dist-packages/requests/models.py\", line 898, in json\n",
            "    return complexjson.loads(self.text, **kwargs)\n",
            "  File \"/usr/lib/python3.7/json/__init__.py\", line 348, in loads\n",
            "    return _default_decoder.decode(s)\n",
            "  File \"/usr/lib/python3.7/json/decoder.py\", line 337, in decode\n",
            "    obj, end = self.raw_decode(s, idx=_w(s, 0).end())\n",
            "  File \"/usr/lib/python3.7/json/decoder.py\", line 355, in raw_decode\n",
            "    raise JSONDecodeError(\"Expecting value\", s, err.value) from None\n",
            "json.decoder.JSONDecodeError: Expecting value: line 1 column 1 (char 0)\n"
          ]
        }
      ]
    },
    {
      "cell_type": "markdown",
      "source": [
        "**방법2**"
      ],
      "metadata": {
        "id": "WPFSvBHkv1zY"
      }
    },
    {
      "cell_type": "code",
      "source": [
        "import requests\n",
        "\n",
        "url = 'http://apis.data.go.kr/B552061/AccidentDeath/getRestTrafficAccidentDeath'\n",
        "params ={'serviceKey' : 'PxEwJIbIxlr4FoTgG3fi7jRUsRmN9lJUwQcSFAYF4egJ2fd1n5BO%2F7sINaT%2BXBQDJeJVh1JwWyIXMCpIdRwDew%3D%3D',\n",
        "         'searchYear' : '2014',\n",
        "         'siDo' : '1100',\n",
        "         'guGun' : '1117',\n",
        "         'type' : 'xml',\n",
        "         'numOfRows' : '10',\n",
        "         'pageNo' : '1' }\n",
        "\n",
        "response = requests.get(url, params=params)\n",
        "print(response.content)\n",
        "\n",
        "import json\n",
        "json.loads(response.text)"
      ],
      "metadata": {
        "colab": {
          "base_uri": "https://localhost:8080/"
        },
        "id": "1_6Q5r2FvF-g",
        "outputId": "16d7ad7f-76c2-4fe5-9150-a129d6440bcf"
      },
      "execution_count": null,
      "outputs": [
        {
          "output_type": "stream",
          "name": "stdout",
          "text": [
            "b'<OpenAPI_ServiceResponse>\\n\\t<cmmMsgHeader>\\n\\t\\t<errMsg>SERVICE ERROR</errMsg>\\n\\t\\t<returnAuthMsg>SERVICE_KEY_IS_NOT_REGISTERED_ERROR</returnAuthMsg>\\n\\t\\t<returnReasonCode>30</returnReasonCode>\\n\\t</cmmMsgHeader>\\n</OpenAPI_ServiceResponse>'\n"
          ]
        }
      ]
    }
  ]
}